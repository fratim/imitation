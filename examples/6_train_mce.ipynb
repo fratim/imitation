{
 "cells": [
  {
   "cell_type": "markdown",
   "metadata": {
    "pycharm": {
     "name": "#%% md\n"
    }
   },
   "source": [
    "# Learn a Reward Function using Maximum Conditional Entropy Inverse Reinforcement Learning\n",
    "\n",
    "MCE IRL only supports tabular environments."
   ]
  },
  {
   "cell_type": "markdown",
   "metadata": {
    "pycharm": {
     "name": "#%% md\n"
    }
   },
   "source": [
    "The cliffworld environment, that we use here is a TabularEnvironment.\n",
    "It's observations consist of the POMDP's observations and the actual state.\n",
    "We later also need VecEnv objects that expose just the internal POMDP-state or just the POMDP-observation as its observation."
   ]
  },
  {
   "cell_type": "code",
   "execution_count": 1,
   "metadata": {
    "pycharm": {
     "name": "#%%\n"
    }
   },
   "outputs": [],
   "source": [
    "from imitation.algorithms.mce_irl import (\n",
    "    MCEIRL,\n",
    "    mce_occupancy_measures,\n",
    "    mce_partition_fh,\n",
    "    TabularPolicy,\n",
    ")\n",
    "import gym\n",
    "import imitation.envs.examples.model_envs\n",
    "from imitation.algorithms import base\n",
    "\n",
    "from imitation.data import rollout\n",
    "from imitation.envs import resettable_env\n",
    "from stable_baselines3.common.vec_env import DummyVecEnv\n",
    "from imitation.rewards import reward_nets\n",
    "\n",
    "\n",
    "env_name = \"imitation/CliffWorld15x6-v0\"\n",
    "env = gym.make(env_name)\n",
    "state_venv = resettable_env.DictExtractWrapper(\n",
    "    DummyVecEnv([lambda: gym.make(env_name)] * 4), \"state\"\n",
    ")\n",
    "obs_venv = resettable_env.DictExtractWrapper(\n",
    "    DummyVecEnv([lambda: gym.make(env_name)] * 4), \"obs\"\n",
    ")"
   ]
  },
  {
   "cell_type": "markdown",
   "metadata": {
    "pycharm": {
     "name": "#%% md\n"
    }
   },
   "source": [
    "Then we derive an expert policy using Bellman backups. We analytically compute the occupancy measures, and also sample some expert trajectories."
   ]
  },
  {
   "cell_type": "code",
   "execution_count": 2,
   "metadata": {
    "pycharm": {
     "name": "#%%\n"
    }
   },
   "outputs": [
    {
     "name": "stdout",
     "output_type": "stream",
     "text": [
      "Expert stats:  {'n_traj': 280, 'return_min': -30.0, 'return_mean': 18.25357142857143, 'return_std': 8.863447496917452, 'return_max': 26.0, 'len_min': 18, 'len_mean': 18.0, 'len_std': 0.0, 'len_max': 18}\n"
     ]
    }
   ],
   "source": [
    "_, _, pi = mce_partition_fh(env)\n",
    "\n",
    "_, om = mce_occupancy_measures(env, pi=pi)\n",
    "\n",
    "expert = TabularPolicy(\n",
    "    state_space=env.pomdp_state_space,\n",
    "    action_space=env.action_space,\n",
    "    pi=pi,\n",
    "    rng=None,\n",
    ")\n",
    "\n",
    "expert_trajs = rollout.generate_trajectories(\n",
    "    policy=expert,\n",
    "    venv=state_venv,\n",
    "    sample_until=rollout.make_min_timesteps(5000),\n",
    ")\n",
    "\n",
    "print(\"Expert stats: \", rollout.rollout_stats(expert_trajs))"
   ]
  },
  {
   "cell_type": "markdown",
   "metadata": {
    "pycharm": {
     "name": "#%% md\n"
    }
   },
   "source": [
    "Finally, we set up the MCE algorithm and train it."
   ]
  },
  {
   "cell_type": "code",
   "execution_count": 3,
   "metadata": {
    "pycharm": {
     "name": "#%%\n"
    }
   },
   "outputs": [],
   "source": [
    "def train_mce_irl(demos, **kwargs):\n",
    "    reward_net = reward_nets.BasicRewardNet(\n",
    "        env.pomdp_observation_space,\n",
    "        env.action_space,\n",
    "        use_action=False,\n",
    "        use_next_state=False,\n",
    "        use_done=False,\n",
    "        hid_sizes=[],\n",
    "    )\n",
    "\n",
    "    mce_irl = MCEIRL(demos, env, reward_net, linf_eps=1e-3)\n",
    "    mce_irl.train(**kwargs)\n",
    "\n",
    "    imitation_trajs = rollout.generate_trajectories(\n",
    "        policy=mce_irl.policy,\n",
    "        venv=state_venv,\n",
    "        sample_until=rollout.make_min_timesteps(5000),\n",
    "    )\n",
    "    print(\"Imitation stats: \", rollout.rollout_stats(imitation_trajs))\n",
    "\n",
    "    return mce_irl"
   ]
  },
  {
   "cell_type": "markdown",
   "metadata": {
    "pycharm": {
     "name": "#%% md\n"
    }
   },
   "source": [
    "First, we train it on the analytically computed occupancy measures. This should give a very precise result."
   ]
  },
  {
   "cell_type": "code",
   "execution_count": 4,
   "metadata": {
    "pycharm": {
     "name": "#%%\n"
    }
   },
   "outputs": [
    {
     "name": "stdout",
     "output_type": "stream",
     "text": [
      "--------------------------\n",
      "| grad_norm   | 6.07     |\n",
      "| iteration   | 0        |\n",
      "| linf_delta  | 4.08     |\n",
      "| weight_norm | 0.575    |\n",
      "--------------------------\n",
      "--------------------------\n",
      "| grad_norm   | 3.8      |\n",
      "| iteration   | 100      |\n",
      "| linf_delta  | 3.64     |\n",
      "| weight_norm | 7.27     |\n",
      "--------------------------\n",
      "--------------------------\n",
      "| grad_norm   | 2.25     |\n",
      "| iteration   | 200      |\n",
      "| linf_delta  | 2.2      |\n",
      "| weight_norm | 11.2     |\n",
      "--------------------------\n",
      "--------------------------\n",
      "| grad_norm   | 1.4      |\n",
      "| iteration   | 300      |\n",
      "| linf_delta  | 1.36     |\n",
      "| weight_norm | 13.4     |\n",
      "--------------------------\n",
      "--------------------------\n",
      "| grad_norm   | 0.865    |\n",
      "| iteration   | 400      |\n",
      "| linf_delta  | 0.838    |\n",
      "| weight_norm | 14.8     |\n",
      "--------------------------\n",
      "--------------------------\n",
      "| grad_norm   | 0.566    |\n",
      "| iteration   | 500      |\n",
      "| linf_delta  | 0.546    |\n",
      "| weight_norm | 15.9     |\n",
      "--------------------------\n",
      "--------------------------\n",
      "| grad_norm   | 0.397    |\n",
      "| iteration   | 600      |\n",
      "| linf_delta  | 0.381    |\n",
      "| weight_norm | 16.7     |\n",
      "--------------------------\n",
      "--------------------------\n",
      "| grad_norm   | 0.295    |\n",
      "| iteration   | 700      |\n",
      "| linf_delta  | 0.282    |\n",
      "| weight_norm | 17.3     |\n",
      "--------------------------\n",
      "--------------------------\n",
      "| grad_norm   | 0.229    |\n",
      "| iteration   | 800      |\n",
      "| linf_delta  | 0.218    |\n",
      "| weight_norm | 17.8     |\n",
      "--------------------------\n",
      "--------------------------\n",
      "| grad_norm   | 0.184    |\n",
      "| iteration   | 900      |\n",
      "| linf_delta  | 0.175    |\n",
      "| weight_norm | 18.3     |\n",
      "--------------------------\n",
      "Imitation stats:  {'n_traj': 280, 'return_min': -30.0, 'return_mean': 16.082142857142856, 'return_std': 11.177002970750399, 'return_max': 26.0, 'len_min': 18, 'len_mean': 18.0, 'len_std': 0.0, 'len_max': 18}\n"
     ]
    }
   ],
   "source": [
    "mce_irl_from_om = train_mce_irl(om)"
   ]
  },
  {
   "cell_type": "markdown",
   "metadata": {
    "pycharm": {
     "name": "#%% md\n"
    }
   },
   "source": [
    "Then we train it on trajectories sampled from the expert. This gives a stochastic approximation to occupancy measure, so performance is a little worse. Using more expert trajectories should improve performance -- try it!"
   ]
  },
  {
   "cell_type": "code",
   "execution_count": 5,
   "outputs": [
    {
     "name": "stdout",
     "output_type": "stream",
     "text": [
      "--------------------------\n",
      "| grad_norm   | 6.51     |\n",
      "| iteration   | 0        |\n",
      "| linf_delta  | 4.9      |\n",
      "| weight_norm | 0.566    |\n",
      "--------------------------\n",
      "--------------------------\n",
      "| grad_norm   | 4.61     |\n",
      "| iteration   | 100      |\n",
      "| linf_delta  | 4.42     |\n",
      "| weight_norm | 8.08     |\n",
      "--------------------------\n",
      "--------------------------\n",
      "| grad_norm   | 3.49     |\n",
      "| iteration   | 200      |\n",
      "| linf_delta  | 3.36     |\n",
      "| weight_norm | 13.7     |\n",
      "--------------------------\n",
      "--------------------------\n",
      "| grad_norm   | 2.53     |\n",
      "| iteration   | 300      |\n",
      "| linf_delta  | 2.38     |\n",
      "| weight_norm | 18.7     |\n",
      "--------------------------\n",
      "--------------------------\n",
      "| grad_norm   | 2.05     |\n",
      "| iteration   | 400      |\n",
      "| linf_delta  | 1.89     |\n",
      "| weight_norm | 23.6     |\n",
      "--------------------------\n",
      "--------------------------\n",
      "| grad_norm   | 1.86     |\n",
      "| iteration   | 500      |\n",
      "| linf_delta  | 1.7      |\n",
      "| weight_norm | 28.6     |\n",
      "--------------------------\n",
      "--------------------------\n",
      "| grad_norm   | 1.78     |\n",
      "| iteration   | 600      |\n",
      "| linf_delta  | 1.62     |\n",
      "| weight_norm | 33.9     |\n",
      "--------------------------\n",
      "--------------------------\n",
      "| grad_norm   | 1.75     |\n",
      "| iteration   | 700      |\n",
      "| linf_delta  | 1.58     |\n",
      "| weight_norm | 39.4     |\n",
      "--------------------------\n",
      "--------------------------\n",
      "| grad_norm   | 1.73     |\n",
      "| iteration   | 800      |\n",
      "| linf_delta  | 1.56     |\n",
      "| weight_norm | 45       |\n",
      "--------------------------\n",
      "--------------------------\n",
      "| grad_norm   | 1.71     |\n",
      "| iteration   | 900      |\n",
      "| linf_delta  | 1.55     |\n",
      "| weight_norm | 50.8     |\n",
      "--------------------------\n",
      "Imitation stats:  {'n_traj': 280, 'return_min': -46.0, 'return_mean': 10.907142857142857, 'return_std': 12.781625443565144, 'return_max': 26.0, 'len_min': 18, 'len_mean': 18.0, 'len_std': 0.0, 'len_max': 18}\n"
     ]
    }
   ],
   "source": [
    "mce_irl_from_trajs = train_mce_irl(expert_trajs[0:10])"
   ],
   "metadata": {
    "collapsed": false,
    "pycharm": {
     "name": "#%%\n"
    }
   }
  },
  {
   "cell_type": "code",
   "execution_count": null,
   "outputs": [],
   "source": [],
   "metadata": {
    "collapsed": false,
    "pycharm": {
     "name": "#%%\n"
    }
   }
  }
 ],
 "metadata": {
  "interpreter": {
   "hash": "bd378ce8f53beae712f05342da42c6a7612fc68b19bea03b52c7b1cdc8851b5f"
  },
  "kernelspec": {
   "display_name": "Python 3 (ipykernel)",
   "language": "python",
   "name": "python3"
  },
  "language_info": {
   "codemirror_mode": {
    "name": "ipython",
    "version": 3
   },
   "file_extension": ".py",
   "mimetype": "text/x-python",
   "name": "python",
   "nbconvert_exporter": "python",
   "pygments_lexer": "ipython3",
   "version": "3.7.9"
  }
 },
 "nbformat": 4,
 "nbformat_minor": 2
}